{
 "cells": [
  {
   "cell_type": "code",
   "execution_count": 82,
   "metadata": {},
   "outputs": [],
   "source": [
    "import numpy as np\n",
    "import matplotlib.pyplot as plt\n",
    "import matplotlib.animation as animation\n",
    "\n",
    "# num points & step (dist/time)\n",
    "nx = 101\n",
    "dx = 5/(nx-1)\n",
    "nt = 150\n",
    "dt = 0.025 # increment\n",
    "domain = dx * (nx-1)\n",
    "c = 1 # wavespeed\n",
    "\n",
    "u = np.ones(nx)\n",
    "u[int(.5/dx):int(1/dx + 1)] = 2 # initial conditions\n",
    "\n",
    "plt.rcParams[\"font.family\"] = 'serif'\n",
    "fig = plt.figure()\n",
    "plt.xlim(0, domain)\n",
    "plt.ylim(0.9, 2.1)\n",
    "plt.suptitle(\"1-D Linear Convection\")\n",
    "plt.title(r'$\\frac{\\partial u}{\\partial t} + c \\frac{\\partial u}{\\partial x} = 0$')\n",
    "plt.grid()\n",
    "lines_plotted = plt.plot([])\n",
    "line_plotted = lines_plotted[0]\n",
    "\n",
    "# solve numerically\n",
    "def AnimationFunction(frame, nx, u, c, dt, dx):\n",
    "    x = np.linspace(0, domain, nx)\n",
    "    un = np.ones(nx)\n",
    "    un = u.copy()\n",
    "    for i in range(1, nx):\n",
    "        u[i] = un[i] - c * dt / dx * (un[i] - un[i-1])\n",
    "    #print(u)\n",
    "    line_plotted.set_data((x, u))\n",
    "\n",
    "anim_created = animation.FuncAnimation(fig, AnimationFunction, frames=nt, fargs=(nx, u, c, dt, dx), interval=dt)\n",
    "writervideo = animation.PillowWriter(1/dt)\n",
    "video = anim_created.save('wave.gif', writer=writervideo)\n",
    "\n",
    "plt.close()\n"
   ]
  }
 ],
 "metadata": {
  "kernelspec": {
   "display_name": ".venv",
   "language": "python",
   "name": "python3"
  },
  "language_info": {
   "codemirror_mode": {
    "name": "ipython",
    "version": 3
   },
   "file_extension": ".py",
   "mimetype": "text/x-python",
   "name": "python",
   "nbconvert_exporter": "python",
   "pygments_lexer": "ipython3",
   "version": "3.11.9"
  }
 },
 "nbformat": 4,
 "nbformat_minor": 2
}
